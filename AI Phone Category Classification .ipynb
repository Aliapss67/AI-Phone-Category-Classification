{
 "cells": [
  {
   "cell_type": "code",
   "execution_count": 1,
   "id": "cbd01149",
   "metadata": {},
   "outputs": [],
   "source": [
    "import numpy as np\n",
    "import pandas as pd\n",
    "import matplotlib.pyplot as plt\n",
    "from sklearn.metrics import confusion_matrix\n",
    "from sklearn.model_selection import train_test_split\n",
    "from sklearn.model_selection import KFold\n",
    "from sklearn.model_selection import StratifiedKFold\n",
    "from sklearn import metrics"
   ]
  },
  {
   "cell_type": "code",
   "execution_count": 2,
   "id": "f79eab53",
   "metadata": {},
   "outputs": [],
   "source": [
    "data=pd.read_csv(\"C:\\\\Users\\\\fasy\\\\Downloads\\\\test.csv\")"
   ]
  },
  {
   "cell_type": "code",
   "execution_count": 4,
   "id": "938e9c4e",
   "metadata": {},
   "outputs": [
    {
     "data": {
      "text/plain": [
       "1    507\n",
       "0    493\n",
       "Name: wifi, dtype: int64"
      ]
     },
     "execution_count": 4,
     "metadata": {},
     "output_type": "execute_result"
    }
   ],
   "source": [
    "data.wifi.value_counts()"
   ]
  },
  {
   "cell_type": "code",
   "execution_count": 5,
   "id": "ce2709a5",
   "metadata": {},
   "outputs": [
    {
     "data": {
      "text/html": [
       "<div>\n",
       "<style scoped>\n",
       "    .dataframe tbody tr th:only-of-type {\n",
       "        vertical-align: middle;\n",
       "    }\n",
       "\n",
       "    .dataframe tbody tr th {\n",
       "        vertical-align: top;\n",
       "    }\n",
       "\n",
       "    .dataframe thead th {\n",
       "        text-align: right;\n",
       "    }\n",
       "</style>\n",
       "<table border=\"1\" class=\"dataframe\">\n",
       "  <thead>\n",
       "    <tr style=\"text-align: right;\">\n",
       "      <th></th>\n",
       "      <th>id</th>\n",
       "      <th>battery_power</th>\n",
       "      <th>blue</th>\n",
       "      <th>clock_speed</th>\n",
       "      <th>dual_sim</th>\n",
       "      <th>fc</th>\n",
       "      <th>four_g</th>\n",
       "      <th>int_memory</th>\n",
       "      <th>m_dep</th>\n",
       "      <th>mobile_wt</th>\n",
       "      <th>...</th>\n",
       "      <th>pc</th>\n",
       "      <th>px_height</th>\n",
       "      <th>px_width</th>\n",
       "      <th>ram</th>\n",
       "      <th>sc_h</th>\n",
       "      <th>sc_w</th>\n",
       "      <th>talk_time</th>\n",
       "      <th>three_g</th>\n",
       "      <th>touch_screen</th>\n",
       "      <th>wifi</th>\n",
       "    </tr>\n",
       "  </thead>\n",
       "  <tbody>\n",
       "    <tr>\n",
       "      <th>0</th>\n",
       "      <td>1</td>\n",
       "      <td>1043</td>\n",
       "      <td>1</td>\n",
       "      <td>1.8</td>\n",
       "      <td>1</td>\n",
       "      <td>14</td>\n",
       "      <td>0</td>\n",
       "      <td>5</td>\n",
       "      <td>0.1</td>\n",
       "      <td>193</td>\n",
       "      <td>...</td>\n",
       "      <td>16</td>\n",
       "      <td>226</td>\n",
       "      <td>1412</td>\n",
       "      <td>3476</td>\n",
       "      <td>12</td>\n",
       "      <td>7</td>\n",
       "      <td>2</td>\n",
       "      <td>0</td>\n",
       "      <td>1</td>\n",
       "      <td>0</td>\n",
       "    </tr>\n",
       "    <tr>\n",
       "      <th>1</th>\n",
       "      <td>2</td>\n",
       "      <td>841</td>\n",
       "      <td>1</td>\n",
       "      <td>0.5</td>\n",
       "      <td>1</td>\n",
       "      <td>4</td>\n",
       "      <td>1</td>\n",
       "      <td>61</td>\n",
       "      <td>0.8</td>\n",
       "      <td>191</td>\n",
       "      <td>...</td>\n",
       "      <td>12</td>\n",
       "      <td>746</td>\n",
       "      <td>857</td>\n",
       "      <td>3895</td>\n",
       "      <td>6</td>\n",
       "      <td>0</td>\n",
       "      <td>7</td>\n",
       "      <td>1</td>\n",
       "      <td>0</td>\n",
       "      <td>0</td>\n",
       "    </tr>\n",
       "    <tr>\n",
       "      <th>2</th>\n",
       "      <td>3</td>\n",
       "      <td>1807</td>\n",
       "      <td>1</td>\n",
       "      <td>2.8</td>\n",
       "      <td>0</td>\n",
       "      <td>1</td>\n",
       "      <td>0</td>\n",
       "      <td>27</td>\n",
       "      <td>0.9</td>\n",
       "      <td>186</td>\n",
       "      <td>...</td>\n",
       "      <td>4</td>\n",
       "      <td>1270</td>\n",
       "      <td>1366</td>\n",
       "      <td>2396</td>\n",
       "      <td>17</td>\n",
       "      <td>10</td>\n",
       "      <td>10</td>\n",
       "      <td>0</td>\n",
       "      <td>1</td>\n",
       "      <td>1</td>\n",
       "    </tr>\n",
       "    <tr>\n",
       "      <th>3</th>\n",
       "      <td>4</td>\n",
       "      <td>1546</td>\n",
       "      <td>0</td>\n",
       "      <td>0.5</td>\n",
       "      <td>1</td>\n",
       "      <td>18</td>\n",
       "      <td>1</td>\n",
       "      <td>25</td>\n",
       "      <td>0.5</td>\n",
       "      <td>96</td>\n",
       "      <td>...</td>\n",
       "      <td>20</td>\n",
       "      <td>295</td>\n",
       "      <td>1752</td>\n",
       "      <td>3893</td>\n",
       "      <td>10</td>\n",
       "      <td>0</td>\n",
       "      <td>7</td>\n",
       "      <td>1</td>\n",
       "      <td>1</td>\n",
       "      <td>0</td>\n",
       "    </tr>\n",
       "    <tr>\n",
       "      <th>4</th>\n",
       "      <td>5</td>\n",
       "      <td>1434</td>\n",
       "      <td>0</td>\n",
       "      <td>1.4</td>\n",
       "      <td>0</td>\n",
       "      <td>11</td>\n",
       "      <td>1</td>\n",
       "      <td>49</td>\n",
       "      <td>0.5</td>\n",
       "      <td>108</td>\n",
       "      <td>...</td>\n",
       "      <td>18</td>\n",
       "      <td>749</td>\n",
       "      <td>810</td>\n",
       "      <td>1773</td>\n",
       "      <td>15</td>\n",
       "      <td>8</td>\n",
       "      <td>7</td>\n",
       "      <td>1</td>\n",
       "      <td>0</td>\n",
       "      <td>1</td>\n",
       "    </tr>\n",
       "  </tbody>\n",
       "</table>\n",
       "<p>5 rows × 21 columns</p>\n",
       "</div>"
      ],
      "text/plain": [
       "   id  battery_power  blue  clock_speed  dual_sim  fc  four_g  int_memory  \\\n",
       "0   1           1043     1          1.8         1  14       0           5   \n",
       "1   2            841     1          0.5         1   4       1          61   \n",
       "2   3           1807     1          2.8         0   1       0          27   \n",
       "3   4           1546     0          0.5         1  18       1          25   \n",
       "4   5           1434     0          1.4         0  11       1          49   \n",
       "\n",
       "   m_dep  mobile_wt  ...  pc  px_height  px_width   ram  sc_h  sc_w  \\\n",
       "0    0.1        193  ...  16        226      1412  3476    12     7   \n",
       "1    0.8        191  ...  12        746       857  3895     6     0   \n",
       "2    0.9        186  ...   4       1270      1366  2396    17    10   \n",
       "3    0.5         96  ...  20        295      1752  3893    10     0   \n",
       "4    0.5        108  ...  18        749       810  1773    15     8   \n",
       "\n",
       "   talk_time  three_g  touch_screen  wifi  \n",
       "0          2        0             1     0  \n",
       "1          7        1             0     0  \n",
       "2         10        0             1     1  \n",
       "3          7        1             1     0  \n",
       "4          7        1             0     1  \n",
       "\n",
       "[5 rows x 21 columns]"
      ]
     },
     "execution_count": 5,
     "metadata": {},
     "output_type": "execute_result"
    }
   ],
   "source": [
    "data.head()"
   ]
  },
  {
   "cell_type": "code",
   "execution_count": 6,
   "id": "8af4c2ee",
   "metadata": {},
   "outputs": [],
   "source": [
    "x=data[[\"px_height\",\"ram\",\"mobile_wt\",\"fc\",\"int_memory\",\"px_width\",\"battery_power\"]].values\n",
    "y=data[\"wifi\"].values"
   ]
  },
  {
   "cell_type": "code",
   "execution_count": 7,
   "id": "5d345e7c",
   "metadata": {},
   "outputs": [
    {
     "data": {
      "text/plain": [
       "<matplotlib.legend.Legend at 0x1ce63e5f1d0>"
      ]
     },
     "execution_count": 7,
     "metadata": {},
     "output_type": "execute_result"
    },
    {
     "data": {
      "image/png": "[encoded data removed]",
      "text/plain": [
       "<Figure size 1000x600 with 1 Axes>"
      ]
     },
     "metadata": {},
     "output_type": "display_data"
    }
   ],
   "source": [
    "plt.figure(figsize=(10,6))\n",
    "plt.scatter(x[y==0][:,0],x[y==0][:,1],color='b',label='0')\n",
    "plt.scatter(x[y==1][:,0],x[y==1][:,1],color='r',label='1')\n",
    "plt.xlabel(\"px_height\")\n",
    "plt.ylabel(\"ram\")\n",
    "plt.legend()"
   ]
  },
  {
   "cell_type": "code",
   "execution_count": 8,
   "id": "89f9a76c",
   "metadata": {},
   "outputs": [],
   "source": [
    "x_train,x_test,y_train,y_test=train_test_split(x,y,test_size=0.3,random_state=42)\n",
    "x_valid,x_test,y_valid,y_test=train_test_split(x_test,y_test,test_size=0.50,random_state=42)"
   ]
  },
  {
   "cell_type": "code",
   "execution_count": 9,
   "id": "26dd2b36",
   "metadata": {},
   "outputs": [],
   "source": [
    "class LogisticRegression:\n",
    "    def __init__(self,lrate=0.0001,iterations=1000):\n",
    "        self.lrate=lrate\n",
    "        self.iterations=iterations\n",
    "        \n",
    "    def scale(x):\n",
    "        x_scaled=x-np.mean(x,axis=0)\n",
    "        x_scaled=x_scaled/np.std(x_scaled,axis=0)\n",
    "        return x_scaled\n",
    "        \n",
    "        \n",
    "    def fit(self,x,y):\n",
    "        self.losses=[]\n",
    "        self.theta=np.zeros((1+x.shape[1]))\n",
    "        n=x.shape[0]\n",
    "        \n",
    "        for i in range(self.iterations):\n",
    "            y_pred=self.theta[0]+np.dot(x,self.theta[1:])\n",
    "            z=y_pred\n",
    "            g_z=1/(1+np.e**(-z))\n",
    "            cost=(-y*np.log(g_z)-(1-y)*np.log(1-g_z))/n\n",
    "            self.losses.append(cost)\n",
    "            \n",
    "            dtheta1=(1/n)*np.dot(x.T,(g_z-y))\n",
    "            dtheta0=(1/n)*np.sum(g_z-y)\n",
    "            \n",
    "            self.theta[1:]=self.theta[1:]-self.lrate*dtheta1\n",
    "            self.theta[0]=self.theta[0]-self.lrate*dtheta0\n",
    "        return self\n",
    "    \n",
    "    def predict(self,x):\n",
    "        y_pred=self.theta[0]+np.dot(x,self.theta[1:])\n",
    "        z=y_pred\n",
    "        g_z=1/(1+np.e**(-z))\n",
    "        return [1 if i>0.4 else 0 for i in g_z]"
   ]
  },
  {
   "cell_type": "code",
   "execution_count": 10,
   "id": "600dddb1",
   "metadata": {},
   "outputs": [],
   "source": [
    "def scale(x):\n",
    "    x_scaled=x-np.mean(x,axis=0)\n",
    "    x_scaled=x_scaled/np.std(x_scaled,axis=0)\n",
    "    return x_scaled"
   ]
  },
  {
   "cell_type": "code",
   "execution_count": 11,
   "id": "655798d5",
   "metadata": {},
   "outputs": [
    {
     "name": "stderr",
     "output_type": "stream",
     "text": [
      "C:\\Users\\fasy\\AppData\\Local\\Temp\\ipykernel_9224\\3429986115.py:21: RuntimeWarning: divide by zero encountered in log\n",
      "  cost=(-y*np.log(g_z)-(1-y)*np.log(1-g_z))/n\n",
      "C:\\Users\\fasy\\AppData\\Local\\Temp\\ipykernel_9224\\3429986115.py:21: RuntimeWarning: invalid value encountered in multiply\n",
      "  cost=(-y*np.log(g_z)-(1-y)*np.log(1-g_z))/n\n"
     ]
    },
    {
     "data": {
      "text/plain": [
       "<__main__.LogisticRegression at 0x1ce63e49510>"
      ]
     },
     "execution_count": 11,
     "metadata": {},
     "output_type": "execute_result"
    }
   ],
   "source": [
    "x_sd=scale(x)\n",
    "model=LogisticRegression()\n",
    "model.fit(x_train,y_train)"
   ]
  },
  {
   "cell_type": "code",
   "execution_count": 12,
   "id": "c86c0689",
   "metadata": {},
   "outputs": [
    {
     "name": "stdout",
     "output_type": "stream",
     "text": [
      "theta is :  [ 0.00078255  0.04023922  0.02281255  0.20921382 -0.00899309  0.08478721\n",
      " -0.11949163  0.1600148 ]\n"
     ]
    }
   ],
   "source": [
    "print(\"theta is : \",model.theta)"
   ]
  },
  {
   "cell_type": "code",
   "execution_count": 13,
   "id": "f557b0d9",
   "metadata": {},
   "outputs": [],
   "source": [
    "y_pred_train=model.predict(x_train)\n",
    "y_pred_valid=model.predict(x_valid)"
   ]
  },
  {
   "cell_type": "code",
   "execution_count": 14,
   "id": "660ae528",
   "metadata": {},
   "outputs": [],
   "source": [
    "train_acc=metrics.accuracy_score(y_train,y_pred_train)\n",
    "valid_acc=metrics.accuracy_score(y_valid,y_pred_valid)"
   ]
  },
  {
   "cell_type": "code",
   "execution_count": 15,
   "id": "03ebafc5",
   "metadata": {},
   "outputs": [
    {
     "name": "stdout",
     "output_type": "stream",
     "text": [
      "traing accuracy is : 0.5042857142857143\n",
      "validation accuracy is : 0.5066666666666667\n"
     ]
    }
   ],
   "source": [
    "print(\"traing accuracy is :\",train_acc)\n",
    "print(\"validation accuracy is :\",valid_acc)"
   ]
  },
  {
   "cell_type": "code",
   "execution_count": 16,
   "id": "9c127156",
   "metadata": {},
   "outputs": [
    {
     "name": "stdout",
     "output_type": "stream",
     "text": [
      "traing accuracy is : 0.54\n"
     ]
    }
   ],
   "source": [
    "y_pred_test=model.predict(x_test)\n",
    "test_acc=metrics.accuracy_score(y_test,y_pred_test)\n",
    "print(\"traing accuracy is :\",test_acc)"
   ]
  },
  {
   "cell_type": "code",
   "execution_count": 17,
   "id": "71f3579b",
   "metadata": {},
   "outputs": [
    {
     "name": "stdout",
     "output_type": "stream",
     "text": [
      "##################################################\n"
     ]
    }
   ],
   "source": [
    "print(\"#\"*50)"
   ]
  },
  {
   "cell_type": "code",
   "execution_count": 18,
   "id": "f1e762b3",
   "metadata": {},
   "outputs": [
    {
     "name": "stderr",
     "output_type": "stream",
     "text": [
      "C:\\Users\\fasy\\AppData\\Local\\Temp\\ipykernel_9224\\3429986115.py:21: RuntimeWarning: divide by zero encountered in log\n",
      "  cost=(-y*np.log(g_z)-(1-y)*np.log(1-g_z))/n\n",
      "C:\\Users\\fasy\\AppData\\Local\\Temp\\ipykernel_9224\\3429986115.py:21: RuntimeWarning: invalid value encountered in multiply\n",
      "  cost=(-y*np.log(g_z)-(1-y)*np.log(1-g_z))/n\n",
      "C:\\Users\\fasy\\AppData\\Local\\Temp\\ipykernel_9224\\3429986115.py:21: RuntimeWarning: divide by zero encountered in log\n",
      "  cost=(-y*np.log(g_z)-(1-y)*np.log(1-g_z))/n\n",
      "C:\\Users\\fasy\\AppData\\Local\\Temp\\ipykernel_9224\\3429986115.py:21: RuntimeWarning: invalid value encountered in multiply\n",
      "  cost=(-y*np.log(g_z)-(1-y)*np.log(1-g_z))/n\n",
      "C:\\Users\\fasy\\AppData\\Local\\Temp\\ipykernel_9224\\3429986115.py:21: RuntimeWarning: divide by zero encountered in log\n",
      "  cost=(-y*np.log(g_z)-(1-y)*np.log(1-g_z))/n\n",
      "C:\\Users\\fasy\\AppData\\Local\\Temp\\ipykernel_9224\\3429986115.py:21: RuntimeWarning: invalid value encountered in multiply\n",
      "  cost=(-y*np.log(g_z)-(1-y)*np.log(1-g_z))/n\n",
      "C:\\Users\\fasy\\AppData\\Local\\Temp\\ipykernel_9224\\3429986115.py:21: RuntimeWarning: divide by zero encountered in log\n",
      "  cost=(-y*np.log(g_z)-(1-y)*np.log(1-g_z))/n\n",
      "C:\\Users\\fasy\\AppData\\Local\\Temp\\ipykernel_9224\\3429986115.py:21: RuntimeWarning: invalid value encountered in multiply\n",
      "  cost=(-y*np.log(g_z)-(1-y)*np.log(1-g_z))/n\n",
      "C:\\Users\\fasy\\AppData\\Local\\Temp\\ipykernel_9224\\3429986115.py:21: RuntimeWarning: divide by zero encountered in log\n",
      "  cost=(-y*np.log(g_z)-(1-y)*np.log(1-g_z))/n\n",
      "C:\\Users\\fasy\\AppData\\Local\\Temp\\ipykernel_9224\\3429986115.py:21: RuntimeWarning: invalid value encountered in multiply\n",
      "  cost=(-y*np.log(g_z)-(1-y)*np.log(1-g_z))/n\n"
     ]
    }
   ],
   "source": [
    "num_splits=5\n",
    "kfold=StratifiedKFold(num_splits,shuffle=True,random_state=1)\n",
    "train_accs,test_accs=[],[]\n",
    "for train_index,test_index in kfold.split(x,y):\n",
    "    x_train,x_test=x[train_index],x[test_index]\n",
    "    y_train,y_test=y[train_index],y[test_index]\n",
    "    \n",
    "    model.fit(x_train,y_train)\n",
    "    y_pred_train=model.predict(x_train)\n",
    "    y_pred_test=model.predict(x_test)\n",
    "    \n",
    "    train_accs.append(metrics.accuracy_score(y_train,y_pred_train)*100)\n",
    "    test_accs.append(metrics.accuracy_score(y_test,y_pred_test)*100)"
   ]
  },
  {
   "cell_type": "code",
   "execution_count": 19,
   "id": "3bbdb9b4",
   "metadata": {},
   "outputs": [
    {
     "name": "stdout",
     "output_type": "stream",
     "text": [
      "\t training_acc \t testing_acc\n",
      "0 \t 49.5 \t 51.0\n",
      "1 \t 50.74999999999999 \t 50.5\n",
      "2 \t 49.625 \t 49.0\n",
      "3 \t 49.125 \t 50.5\n",
      "4 \t 50.125 \t 52.0\n",
      "AV \t 49.824999999999996 \t 50.599999999999994\n"
     ]
    }
   ],
   "source": [
    "ave_train_acc=0\n",
    "ave_test_acc=0\n",
    "print(\"\\t\",\"training_acc\",\"\\t\",\"testing_acc\")\n",
    "\n",
    "for i in range(num_splits):\n",
    "    print(i,\"\\t\",train_accs[i],\"\\t\",test_accs[i])\n",
    "    \n",
    "    ave_train_acc+=train_accs[i]/num_splits\n",
    "    ave_test_acc+=test_accs[i]/num_splits\n",
    "print(\"AV\",\"\\t\",ave_train_acc,\"\\t\",ave_test_acc)"
   ]
  },
  {
   "cell_type": "code",
   "execution_count": null,
   "id": "0bb7801e",
   "metadata": {},
   "outputs": [],
   "source": []
  },
  {
   "cell_type": "code",
   "execution_count": null,
   "id": "8f46bf1d",
   "metadata": {},
   "outputs": [],
   "source": []
  }
 ],
 "metadata": {
  "kernelspec": {
   "display_name": "Python 3 (ipykernel)",
   "language": "python",
   "name": "python3"
  },
  "language_info": {
   "codemirror_mode": {
    "name": "ipython",
    "version": 3
   },
   "file_extension": ".py",
   "mimetype": "text/x-python",
   "name": "python",
   "nbconvert_exporter": "python",
   "pygments_lexer": "ipython3",
   "version": "3.11.4"
  }
 },
 "nbformat": 4,
 "nbformat_minor": 5
}
